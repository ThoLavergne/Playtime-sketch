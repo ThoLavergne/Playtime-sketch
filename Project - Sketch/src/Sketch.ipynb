{
 "cells": [
  {
   "cell_type": "code",
   "execution_count": 1,
   "metadata": {},
   "outputs": [
    {
     "name": "stdout",
     "output_type": "stream",
     "text": [
      "Cet avion peut voler pendant  52438  s, soit  873  min, soit 2039  km à une vitesse moyenne de  140  km/h et sa vitesse max sera de  200  km/h\n"
     ]
    }
   ],
   "source": [
    "import os\n",
    "import csv\n",
    "import math\n",
    "import random\n",
    "import string\n",
    "import functools\n",
    "import matplotlib.pyplot as plt\n",
    "import numpy as np\n",
    "import pandas as pd\n",
    "\n",
    "from sklearn.ensemble import GradientBoostingRegressor, RandomForestRegressor\n",
    "from sklearn.linear_model import Lasso\n",
    "from sklearn.metrics import r2_score\n",
    "from sklearn.model_selection import train_test_split\n",
    "from sklearn.neighbors import KNeighborsRegressor\n",
    "from sklearn.tree import export_graphviz\n",
    "from sklearn.tree import DecisionTreeRegressor\n",
    "\n",
    "from keras.models import Sequential\n",
    "from keras.layers import Dense\n",
    "\n",
    "from objects.Plane import Plane\n",
    "from objects.Maneuver import Mission_Maneuver, Maneuver_Mission\n",
    "from objects.AllManeuvers import * \n",
    "from function import tools \n",
    "from function.tools import KNOTS2KMH, KMH2KNOTS\n",
    "\n",
    "\n",
    "# WARNING : Values are wrong, this is just a sketch\n",
    "\n",
    "# FUEL_CONSUMPTION_RATE =  3 #2.5 # KG / KM for a 100 knots speed for X plane model\n",
    "pd.reset_option('display.max_colwidth')\n"
   ]
  },
  {
   "cell_type": "code",
   "execution_count": 7,
   "metadata": {},
   "outputs": [],
   "source": [
    "\n",
    "list_maneuvers = [\n",
    "    ZigZag(180, 2000, 3, 30, 30),\n",
    "    Spiral(180, 2000, 3, 30),\n",
    "    Wheel(200, 2000, 5),\n",
    "    Wheel(220, 2000, 5),\n",
    "    Wheel(200, 1000, 5),\n",
    "    Wheel(220, 1000, 5),\n",
    "    Wheel(200, 1000, 5),\n",
    "    Wheel(220, 1000, 5),\n",
    "    Wheel(200, 2000, 5),\n",
    "    Wheel(220, 2000, 5),\n",
    "    Wheel(100, 20000, 5),\n",
    "    # ShowOfForce('ClassicShowOfForce'),\n",
    "]\n"
   ]
  },
  {
   "cell_type": "code",
   "execution_count": 8,
   "metadata": {},
   "outputs": [
    {
     "name": "stdout",
     "output_type": "stream",
     "text": [
      "285.4115008234621 5708.23\n",
      "191.9344667881098 3838.69\n",
      "33.41592653589793 610.49\n",
      "33.41592653589793 559.08\n",
      "33.41592653589793 610.49\n",
      "33.41592653589793 559.08\n",
      "33.41592653589793 610.49\n",
      "33.41592653589793 559.08\n",
      "33.41592653589793 610.49\n",
      "33.41592653589793 559.08\n",
      "33.41592653589793 1175.97\n"
     ]
    }
   ],
   "source": [
    "for m in list_maneuvers:\n",
    "    print(m.distance, m.travelled_time())"
   ]
  },
  {
   "cell_type": "code",
   "execution_count": 5,
   "metadata": {},
   "outputs": [],
   "source": [
    "dic_maneuvers = dict()\n",
    "\n",
    "for i in range(len(list_maneuvers)):\n",
    "    dic_maneuvers[i] = list_maneuvers[i]\n"
   ]
  },
  {
   "cell_type": "code",
   "execution_count": null,
   "metadata": {},
   "outputs": [
    {
     "name": "stdout",
     "output_type": "stream",
     "text": [
      "Cet avion peut voler pendant  52438  s, soit  873  min, soit 2039  km à une vitesse moyenne de  140  km/h et sa vitesse max sera de  200  km/h\n",
      "Cet avion peut voler pendant  12190  s, soit  203  min, soit 1801  km à une vitesse moyenne de  532  km/h et sa vitesse max sera de  200  km/h\n"
     ]
    }
   ],
   "source": [
    "ULM = Plane()\n",
    "M2000 = Plane('M2000', 0.2625, 3200, 532, 2340 * KMH2KNOTS)\n",
    "\n",
    "plane_list = [M2000, ULM]"
   ]
  },
  {
   "cell_type": "code",
   "execution_count": null,
   "metadata": {},
   "outputs": [
    {
     "name": "stdout",
     "output_type": "stream",
     "text": [
      "Voila le coût en fuel des manoeuvres : \n",
      "Plane :  M2000\n",
      "0  kg for this maneuver |  0  seconds for this maneuver, so  0  min  0  seconds\n",
      "0  kg for this maneuver |  0  seconds for this maneuver, so  0  min  0  seconds\n",
      "67.08229527611374  kg for this maneuver |  312.795918367347  seconds for this maneuver, so  5  min  12.8  seconds\n",
      "67.12194817600985  kg for this maneuver |  308.70500927643786  seconds for this maneuver, so  5  min  8.71  seconds\n",
      "67.18215379387331  kg for this maneuver |  312.795918367347  seconds for this maneuver, so  5  min  12.8  seconds\n",
      "67.22191163990384  kg for this maneuver |  308.70500927643786  seconds for this maneuver, so  5  min  8.71  seconds\n",
      "134.53410848421777  kg for this maneuver |  606.6734693877552  seconds for this maneuver, so  10  min  6.67  seconds\n",
      "134.57386633024828  kg for this maneuver |  602.582560296846  seconds for this maneuver, so  10  min  2.58  seconds\n",
      "134.34512247127128  kg for this maneuver |  606.6734693877552  seconds for this maneuver, so  10  min  6.67  seconds\n",
      "134.3847753711674  kg for this maneuver |  602.582560296846  seconds for this maneuver, so  10  min  2.58  seconds\n",
      "48.643786201062326  kg for this maneuver |  284.32653061224494  seconds for this maneuver, so  4  min  44.33  seconds\n",
      "-4.159244637938978  kg for this maneuver |  2932539.0102255032  seconds for this maneuver, so  48875  min  39.01  seconds\n",
      "Plane :  ULM\n",
      "0  kg for this maneuver |  0  seconds for this maneuver, so  0  min  0  seconds\n",
      "0  kg for this maneuver |  0  seconds for this maneuver, so  0  min  0  seconds\n",
      "2.2519931664026704  kg for this maneuver |  312.795918367347  seconds for this maneuver, so  5  min  12.8  seconds\n",
      "2.2533243382003345  kg for this maneuver |  308.70500927643786  seconds for this maneuver, so  5  min  8.71  seconds\n",
      "2.2553454771528623  kg for this maneuver |  312.795918367347  seconds for this maneuver, so  5  min  12.8  seconds\n",
      "2.2566801720556398  kg for this maneuver |  308.70500927643786  seconds for this maneuver, so  5  min  8.71  seconds\n",
      "4.516391272950579  kg for this maneuver |  606.6734693877552  seconds for this maneuver, so  10  min  6.67  seconds\n",
      "4.517725967853356  kg for this maneuver |  602.582560296846  seconds for this maneuver, so  10  min  2.58  seconds\n",
      "4.510046898358902  kg for this maneuver |  606.6734693877552  seconds for this maneuver, so  10  min  6.67  seconds\n",
      "4.511378070156566  kg for this maneuver |  602.582560296846  seconds for this maneuver, so  10  min  2.58  seconds\n",
      "1.6330012809169812  kg for this maneuver |  284.32653061224494  seconds for this maneuver, so  4  min  44.33  seconds\n",
      "-0.13962835444855046  kg for this maneuver |  2932539.0102255032  seconds for this maneuver, so  48875  min  39.01  seconds\n"
     ]
    }
   ],
   "source": [
    "print(\"Voila le coût en fuel des manoeuvres : \")\n",
    "for plane in plane_list:\n",
    "    print(\"Plane : \", plane)\n",
    "    for man in list_maneuvers:\n",
    "        print(man.total_fuel_consumption(plane),\n",
    "              \" kg for this maneuver | \", man.travelled_time(), \" seconds for this maneuver, so \", math.floor(man.travelled_time() / 60), \" min \", round(man.travelled_time() % 60, 2), \" seconds\")\n"
   ]
  },
  {
   "cell_type": "code",
   "execution_count": null,
   "metadata": {},
   "outputs": [],
   "source": [
    "param_list = {\n",
    "    'Plane': plane_list,\n",
    "    'GoalDistance': [0, 10, 15, 20, 30],\n",
    "    'RtBDistance': [0, 10, 15, 20, 30],\n",
    "    'Fuel': [300, 400, 400, 450, 500, 550],\n",
    "    # Start with just 2 states : good (sunny, no clouds) and bad (cloudy or rainy)\n",
    "    'Meteo': [\"Sunny\", \"Cloudy\", \"Misty\"],\n",
    "    'MissionType': [Mission_Maneuver.SCAR],  # , Mission_Maneuver.CAS\n",
    "    # Add ennemies number afterwards, weaponry\n",
    "    'Strength': ['Weak', 'Equal', 'Strong'],\n",
    "    # '' : [90,0,50]\n",
    "}\n",
    "\n",
    "param_list = {\n",
    "    'Plane': plane_list,  # Plane used in data\n",
    "    # Distance from the starting point to the goal\n",
    "    'GoalDistance': [0, 5, 10, 15, 20],\n",
    "    # Distance from the objective to the exit point\n",
    "    'RtBDistance': [0, 5, 10, 15, 20],\n",
    "    # KG of fuel available at the start of the mission\n",
    "    'Fuel': [300, 400, 400, 450, 500, 550],\n",
    "    'Meteo': [\"Sunny\", \"Cloudy\", \"Misty\"],\n",
    "    # Start with just 3 states : sunny (no clouds), cloudy and misty (cloudy++)\n",
    "    'MissionType': [Mission_Maneuver.SCAR],\n",
    "    # Type of mission : will change the mission context\n",
    "    # , Mission_Maneuver.CAS\n",
    "    # 'TimeMin': [None, 300],\n",
    "    # Time constraint for the time on the objective\n",
    "    # Add ennemies number afterwards, weaponry\n",
    "    'Strength': ['Weak', 'Equal', 'Strong'],\n",
    "    # 'Impredictibility' : [0, 50, 90], # Potential appearance of new ennemies on the objective point\n",
    "}\n",
    "\n"
   ]
  },
  {
   "cell_type": "code",
   "execution_count": null,
   "metadata": {},
   "outputs": [],
   "source": [
    "all_combinations_not_filtered = tools.get_all_combinations(param_list)\n",
    "all_combinations = []\n",
    "for data in all_combinations_not_filtered:\n",
    "\n",
    "    plane = data['Plane']\n",
    "    if plane.name == 'M2000':\n",
    "        data['Fuel'] *= 6\n",
    "    elif plane.name == 'ULM':\n",
    "        data['Fuel'] = round(data['Fuel'] / 6)\n",
    "    # Check if the data corresponds to the plane caracteristics\n",
    "    if plane.fuel_max >= data['Fuel']:\n",
    "        all_combinations.append(data)\n"
   ]
  },
  {
   "cell_type": "code",
   "execution_count": null,
   "metadata": {},
   "outputs": [
    {
     "name": "stdout",
     "output_type": "stream",
     "text": [
      "2475\n",
      "2700\n",
      "      Plane  GoalDistance  RtBDistance  Fuel   Meteo MissionType Strength\n",
      "2212    ULM            20            0    50   Misty        SCAR    Equal\n",
      "427   M2000             5           20  2400  Cloudy        SCAR    Equal\n",
      "1442    ULM             5            0    92   Sunny        SCAR   Strong\n",
      "1140    ULM             0            0    67   Misty        SCAR     Weak\n",
      "167   M2000             0           15  2700  Cloudy        SCAR   Strong\n",
      "2218    ULM            20            0    67  Cloudy        SCAR    Equal\n",
      "220   M2000             0           20  3000  Cloudy        SCAR    Equal\n",
      "247   M2000             5            0  2400  Cloudy        SCAR    Equal\n",
      "1105  M2000            20           20  2400   Misty        SCAR    Equal\n",
      "2261    ULM            20            5    50   Sunny        SCAR   Strong\n"
     ]
    }
   ],
   "source": [
    "print(len(all_combinations))\n",
    "print(len(all_combinations_not_filtered))\n",
    "print(pd.DataFrame(all_combinations).sample(10))"
   ]
  },
  {
   "cell_type": "code",
   "execution_count": null,
   "metadata": {},
   "outputs": [
    {
     "ename": "KeyError",
     "evalue": "'MaxSpeedOP'",
     "output_type": "error",
     "traceback": [
      "\u001b[1;31m---------------------------------------------------------------------------\u001b[0m",
      "\u001b[1;31mKeyError\u001b[0m                                  Traceback (most recent call last)",
      "\u001b[1;32m~\\AppData\\Local\\Temp\\ipykernel_19300\\3172365740.py\u001b[0m in \u001b[0;36m<module>\u001b[1;34m\u001b[0m\n\u001b[0;32m      2\u001b[0m     \u001b[0mplane\u001b[0m \u001b[1;33m=\u001b[0m \u001b[0mc\u001b[0m\u001b[1;33m[\u001b[0m\u001b[1;34m'Plane'\u001b[0m\u001b[1;33m]\u001b[0m\u001b[1;33m\u001b[0m\u001b[1;33m\u001b[0m\u001b[0m\n\u001b[0;32m      3\u001b[0m     \u001b[0mfcr\u001b[0m \u001b[1;33m=\u001b[0m \u001b[0mplane\u001b[0m\u001b[1;33m.\u001b[0m\u001b[0mfuel_consumption_rate\u001b[0m\u001b[1;33m\u001b[0m\u001b[1;33m\u001b[0m\u001b[0m\n\u001b[1;32m----> 4\u001b[1;33m     \u001b[0mspeed\u001b[0m \u001b[1;33m=\u001b[0m \u001b[0mc\u001b[0m\u001b[1;33m[\u001b[0m\u001b[1;34m'MaxSpeedOP'\u001b[0m\u001b[1;33m]\u001b[0m \u001b[1;33m*\u001b[0m \u001b[0mKNOTS2KMH\u001b[0m\u001b[1;33m\u001b[0m\u001b[1;33m\u001b[0m\u001b[0m\n\u001b[0m\u001b[0;32m      5\u001b[0m     c['FuelRemaining'] = c['Fuel'] - (fcr * (c['GoalDistance'] / speed) * 3600) - (\n\u001b[0;32m      6\u001b[0m         fcr * (c['RtBDistance'] / speed) * 3600)\n",
      "\u001b[1;31mKeyError\u001b[0m: 'MaxSpeedOP'"
     ]
    }
   ],
   "source": [
    "for c in all_combinations:\n",
    "    plane = c['Plane']\n",
    "    fcr = plane.fuel_consumption_rate\n",
    "    speed = c['MaxSpeedOP'] * KNOTS2KMH\n",
    "    c['FuelRemaining'] = c['Fuel'] - (fcr * (c['GoalDistance'] / speed) * 3600) - (\n",
    "        fcr * (c['RtBDistance'] / speed) * 3600)\n",
    "    # c['BaseFuelRemaining'] = c['FuelRemaining']\n"
   ]
  },
  {
   "cell_type": "code",
   "execution_count": null,
   "metadata": {},
   "outputs": [],
   "source": [
    "def choose_randomly(maneuvers_for_c, c) -> list:\n",
    "    percent = math.ceil(random.random() * 100)\n",
    "    # percent = math.ceil(random.gauss(50,(50-5)/3))\n",
    "    if percent < 0:\n",
    "        percent += 100\n",
    "    elif percent > 100:\n",
    "        percent -= 100\n",
    "    max_speed = c['MaxSpeedOP']\n",
    "    new_maneuvers = []\n",
    "    new_maneuvers = filter(\n",
    "        lambda m: dic_maneuvers[m].meanspeed <= max_speed, maneuvers_for_c)\n",
    "    if c['Strength'] == 'Weak' or c['Strength'] == 'Equal':\n",
    "        if percent <= 95:\n",
    "            new_maneuvers = filter(\n",
    "                lambda m: dic_maneuvers[m].meanspeed >= 200, new_maneuvers)\n",
    "        else:\n",
    "            new_maneuvers = filter(\n",
    "                lambda m: dic_maneuvers[m].meanspeed < 200, new_maneuvers)\n",
    "    elif c['Strength'] == 'Strong':\n",
    "        if percent <= 95:\n",
    "            new_maneuvers = filter(\n",
    "                lambda m: dic_maneuvers[m].meanspeed < 200, new_maneuvers)\n",
    "        else:\n",
    "            new_maneuvers = filter(\n",
    "                lambda m: dic_maneuvers[m].meanspeed >= 200, new_maneuvers)\n",
    "\n",
    "    if c['Meteo'] == \"Cloudy\" or c['Meteo'] == 'Misty':\n",
    "        if percent <= 95:\n",
    "            new_maneuvers = filter(\n",
    "                lambda m: dic_maneuvers[m].altitude < 1, new_maneuvers)\n",
    "        else:\n",
    "            new_maneuvers = filter(\n",
    "                lambda m: dic_maneuvers[m].altitude >= 1, new_maneuvers)\n",
    "    else:\n",
    "        if percent <= 95:\n",
    "            new_maneuvers = filter(\n",
    "                lambda m: dic_maneuvers[m].altitude >= 1, new_maneuvers)\n",
    "        else:\n",
    "            new_maneuvers = filter(\n",
    "                lambda m: dic_maneuvers[m].altitude < 1, new_maneuvers)\n",
    "    return list(new_maneuvers)\n"
   ]
  },
  {
   "cell_type": "code",
   "execution_count": null,
   "metadata": {},
   "outputs": [],
   "source": [
    "def select_maneuvers(maneuvers_for_c, c):\n",
    "    selected = []\n",
    "    minCost = min(dic_maneuvers[man].total_fuel_consumption(\n",
    "        c['Plane']) for man in maneuvers_for_c)\n",
    "    minEfficiency = min(\n",
    "        dic_maneuvers[man].efficiency for man in maneuvers_for_c)\n",
    "    efficiency = 90\n",
    "    while c['FuelRemaining'] >= minCost and efficiency >= minEfficiency and len(selected) < 5:\n",
    "        maneuvers_with_eff = list(filter(\n",
    "            lambda man: dic_maneuvers[man].efficiency >= efficiency, maneuvers_for_c))\n",
    "        if len(maneuvers_with_eff) != 0:\n",
    "            rand = random.randint(0, len(maneuvers_with_eff)-1)\n",
    "            man = dic_maneuvers[maneuvers_with_eff[rand]]\n",
    "            if (c['FuelRemaining'] - man.total_fuel_consumption(c['Plane'])) >= 0:\n",
    "                c['FuelRemaining'] -= man.total_fuel_consumption(c['Plane'])\n",
    "                selected.append(maneuvers_with_eff[rand])\n",
    "            else:\n",
    "                efficiency -= 5\n",
    "        else:\n",
    "            efficiency -= 5\n",
    "    return selected\n"
   ]
  },
  {
   "cell_type": "code",
   "execution_count": null,
   "metadata": {},
   "outputs": [],
   "source": [
    "indexed_maneuvers = list_maneuvers.copy()\n",
    "\n",
    "p = True\n",
    "combinations = all_combinations.copy()\n",
    "count = 0\n",
    "all_maneuvers_for_c = []\n",
    "for c in combinations:\n",
    "    maneuvers_for_c = list(filter(\n",
    "        lambda m:  dic_maneuvers[m].name in c['MissionType'].getManeuver(), dic_maneuvers))\n",
    "    maneuvers_for_c = list(filter(lambda m: dic_maneuvers[m].total_fuel_consumption(\n",
    "        c['Plane']) < c['FuelRemaining'], maneuvers_for_c))\n",
    "    maneuvers_for_c = choose_randomly(maneuvers_for_c, c)\n",
    "    all_maneuvers_for_c.append(maneuvers_for_c)\n"
   ]
  },
  {
   "cell_type": "code",
   "execution_count": null,
   "metadata": {},
   "outputs": [],
   "source": [
    "final_combinations = combinations.copy()\n",
    "for c, maneuvers_for_c in zip(final_combinations, all_maneuvers_for_c):\n",
    "    if len(maneuvers_for_c) > 0:\n",
    "        maneuvers = select_maneuvers(maneuvers_for_c, c)\n",
    "        if maneuvers != None or len(maneuvers) > 0:\n",
    "            c['Maneuvers'] = list(maneuvers)\n",
    "            c['TimeOfMission'] = sum(\n",
    "                dic_maneuvers[m].travelled_time() for m in c['Maneuvers'])\n"
   ]
  },
  {
   "cell_type": "code",
   "execution_count": null,
   "metadata": {},
   "outputs": [
    {
     "name": "stdout",
     "output_type": "stream",
     "text": [
      "0\n",
      "Done\n",
      "0\n"
     ]
    }
   ],
   "source": [
    "# print(impossible_combinations)\n",
    "final_combinations_plane = [\n",
    "    c for c in final_combinations if c.get(\"Maneuvers\")]\n",
    "# print(len(final_combinations), len(final_combinations_plane))\n",
    "# for c in final_combinations_plane:\n",
    "#     # c['Maneuvers'] = [c.__dict__ for c in c['Maneuvers']]\n",
    "#     # c['Plane'] = c['Plane']\n",
    "\n",
    "final_combinations_maneuvers = final_combinations_plane.copy()\n",
    "# final_combinations_maneuvers = final_combinations.copy()\n",
    "list_maneuvers = []\n",
    "\n",
    "for c in final_combinations_maneuvers:\n",
    "    list_maneuvers.append(c['Maneuvers'])\n",
    "\n",
    "print(len(list_maneuvers))\n",
    "first_tuple_list = []\n",
    "for lst in list_maneuvers:\n",
    "    first_tuple_list.append(tuple(lst))\n",
    "print(\"Done\")\n",
    "set_man = set(first_tuple_list)\n",
    "new_dict = dict()\n",
    "\n",
    "for i in range(len(set_man)):\n",
    "    new_dict[set_man.pop()] = i\n",
    "print(len(new_dict))\n"
   ]
  },
  {
   "cell_type": "code",
   "execution_count": null,
   "metadata": {},
   "outputs": [],
   "source": [
    "# print(dic_maneuvers.get(i))\n",
    "\n",
    "for c in final_combinations_maneuvers:\n",
    "    c['Maneuvers'] = new_dict.get(tuple(c['Maneuvers']))\n",
    "df = pd.DataFrame(final_combinations_maneuvers)\n"
   ]
  },
  {
   "cell_type": "code",
   "execution_count": null,
   "metadata": {},
   "outputs": [
    {
     "ename": "ValueError",
     "evalue": "Cannot describe a DataFrame without columns",
     "output_type": "error",
     "traceback": [
      "\u001b[1;31m---------------------------------------------------------------------------\u001b[0m",
      "\u001b[1;31mValueError\u001b[0m                                Traceback (most recent call last)",
      "\u001b[1;32m~\\AppData\\Local\\Temp\\ipykernel_2400\\2156192669.py\u001b[0m in \u001b[0;36m<module>\u001b[1;34m\u001b[0m\n\u001b[1;32m----> 1\u001b[1;33m \u001b[0mdf\u001b[0m\u001b[1;33m.\u001b[0m\u001b[0mdescribe\u001b[0m\u001b[1;33m(\u001b[0m\u001b[1;33m)\u001b[0m\u001b[1;33m\u001b[0m\u001b[1;33m\u001b[0m\u001b[0m\n\u001b[0m",
      "\u001b[1;32m~\\AppData\\Local\\Packages\\PythonSoftwareFoundation.Python.3.7_qbz5n2kfra8p0\\LocalCache\\local-packages\\Python37\\site-packages\\pandas\\core\\generic.py\u001b[0m in \u001b[0;36mdescribe\u001b[1;34m(self, percentiles, include, exclude, datetime_is_numeric)\u001b[0m\n\u001b[0;32m  10027\u001b[0m             \u001b[0mexclude\u001b[0m\u001b[1;33m=\u001b[0m\u001b[0mexclude\u001b[0m\u001b[1;33m,\u001b[0m\u001b[1;33m\u001b[0m\u001b[1;33m\u001b[0m\u001b[0m\n\u001b[0;32m  10028\u001b[0m             \u001b[0mdatetime_is_numeric\u001b[0m\u001b[1;33m=\u001b[0m\u001b[0mdatetime_is_numeric\u001b[0m\u001b[1;33m,\u001b[0m\u001b[1;33m\u001b[0m\u001b[1;33m\u001b[0m\u001b[0m\n\u001b[1;32m> 10029\u001b[1;33m             \u001b[0mpercentiles\u001b[0m\u001b[1;33m=\u001b[0m\u001b[0mpercentiles\u001b[0m\u001b[1;33m,\u001b[0m\u001b[1;33m\u001b[0m\u001b[1;33m\u001b[0m\u001b[0m\n\u001b[0m\u001b[0;32m  10030\u001b[0m         )\n\u001b[0;32m  10031\u001b[0m \u001b[1;33m\u001b[0m\u001b[0m\n",
      "\u001b[1;32m~\\AppData\\Local\\Packages\\PythonSoftwareFoundation.Python.3.7_qbz5n2kfra8p0\\LocalCache\\local-packages\\Python37\\site-packages\\pandas\\core\\describe.py\u001b[0m in \u001b[0;36mdescribe_ndframe\u001b[1;34m(obj, include, exclude, datetime_is_numeric, percentiles)\u001b[0m\n\u001b[0;32m     90\u001b[0m             \u001b[0minclude\u001b[0m\u001b[1;33m=\u001b[0m\u001b[0minclude\u001b[0m\u001b[1;33m,\u001b[0m\u001b[1;33m\u001b[0m\u001b[1;33m\u001b[0m\u001b[0m\n\u001b[0;32m     91\u001b[0m             \u001b[0mexclude\u001b[0m\u001b[1;33m=\u001b[0m\u001b[0mexclude\u001b[0m\u001b[1;33m,\u001b[0m\u001b[1;33m\u001b[0m\u001b[1;33m\u001b[0m\u001b[0m\n\u001b[1;32m---> 92\u001b[1;33m             \u001b[0mdatetime_is_numeric\u001b[0m\u001b[1;33m=\u001b[0m\u001b[0mdatetime_is_numeric\u001b[0m\u001b[1;33m,\u001b[0m\u001b[1;33m\u001b[0m\u001b[1;33m\u001b[0m\u001b[0m\n\u001b[0m\u001b[0;32m     93\u001b[0m         )\n\u001b[0;32m     94\u001b[0m \u001b[1;33m\u001b[0m\u001b[0m\n",
      "\u001b[1;32m~\\AppData\\Local\\Packages\\PythonSoftwareFoundation.Python.3.7_qbz5n2kfra8p0\\LocalCache\\local-packages\\Python37\\site-packages\\pandas\\core\\describe.py\u001b[0m in \u001b[0;36m__init__\u001b[1;34m(self, obj, include, exclude, datetime_is_numeric)\u001b[0m\n\u001b[0;32m    163\u001b[0m \u001b[1;33m\u001b[0m\u001b[0m\n\u001b[0;32m    164\u001b[0m         \u001b[1;32mif\u001b[0m \u001b[0mobj\u001b[0m\u001b[1;33m.\u001b[0m\u001b[0mndim\u001b[0m \u001b[1;33m==\u001b[0m \u001b[1;36m2\u001b[0m \u001b[1;32mand\u001b[0m \u001b[0mobj\u001b[0m\u001b[1;33m.\u001b[0m\u001b[0mcolumns\u001b[0m\u001b[1;33m.\u001b[0m\u001b[0msize\u001b[0m \u001b[1;33m==\u001b[0m \u001b[1;36m0\u001b[0m\u001b[1;33m:\u001b[0m\u001b[1;33m\u001b[0m\u001b[1;33m\u001b[0m\u001b[0m\n\u001b[1;32m--> 165\u001b[1;33m             \u001b[1;32mraise\u001b[0m \u001b[0mValueError\u001b[0m\u001b[1;33m(\u001b[0m\u001b[1;34m\"Cannot describe a DataFrame without columns\"\u001b[0m\u001b[1;33m)\u001b[0m\u001b[1;33m\u001b[0m\u001b[1;33m\u001b[0m\u001b[0m\n\u001b[0m\u001b[0;32m    166\u001b[0m \u001b[1;33m\u001b[0m\u001b[0m\n\u001b[0;32m    167\u001b[0m         \u001b[0msuper\u001b[0m\u001b[1;33m(\u001b[0m\u001b[1;33m)\u001b[0m\u001b[1;33m.\u001b[0m\u001b[0m__init__\u001b[0m\u001b[1;33m(\u001b[0m\u001b[0mobj\u001b[0m\u001b[1;33m,\u001b[0m \u001b[0mdatetime_is_numeric\u001b[0m\u001b[1;33m=\u001b[0m\u001b[0mdatetime_is_numeric\u001b[0m\u001b[1;33m)\u001b[0m\u001b[1;33m\u001b[0m\u001b[1;33m\u001b[0m\u001b[0m\n",
      "\u001b[1;31mValueError\u001b[0m: Cannot describe a DataFrame without columns"
     ]
    }
   ],
   "source": [
    "\n",
    "df.describe()\n"
   ]
  },
  {
   "cell_type": "code",
   "execution_count": null,
   "metadata": {},
   "outputs": [],
   "source": [
    "pd.set_option('display.max_colwidth', None)\n",
    "df.sample(1).get(\"Maneuvers\")\n",
    "pd.reset_option('display.max_colwidth')\n"
   ]
  },
  {
   "cell_type": "code",
   "execution_count": null,
   "metadata": {},
   "outputs": [],
   "source": [
    "\n",
    "\n",
    "df = pd.get_dummies(df, columns=[\"Plane\", \"Meteo\", \"MissionType\", \"Strength\", 'TimeMin'])\n",
    "df.sample(10)\n",
    "# data_MissionType = pd.DataFrame(ohe.fit_transform(data_meteo[[\"MissionType\"]]))\n",
    "# data_Strength = pd.DataFrame(ohe.fit_transform(data_MissionType[[\"Strength\"]]))\n",
    "# data_Strength\n"
   ]
  },
  {
   "cell_type": "code",
   "execution_count": null,
   "metadata": {},
   "outputs": [],
   "source": [
    "df_first = df.copy()\n",
    "X_train, X_test, y_train, y_test = train_test_split(df_first.drop(\n",
    "    \"TimeOfMission\", axis=1), df_first[\"TimeOfMission\"], test_size=0.15)\n",
    "# X_train, X_test, y_train, y_test = train_test_split( df.drop(\"Maneuvers\", axis=1), df[\"Maneuvers\"], test_size=0.30)\n",
    "models = [Lasso(), KNeighborsRegressor(), RandomForestRegressor(),\n",
    "          GradientBoostingRegressor()]\n",
    "\n",
    "once = True\n",
    "for model in models:\n",
    "\n",
    "    # Model is trained with the corrupted / imputed data\n",
    "    model.fit(X_train, y_train)\n",
    "\n",
    "    # Model performance is evaluated against the original test dataset\n",
    "    y_pred = model.predict(X_test)\n",
    "    # y_pred = [round(y) for y in y_pred]\n",
    "    score = r2_score(y_test, y_pred)\n",
    "    if not once:\n",
    "        for t, p in zip(y_test, y_pred):\n",
    "            print(t, p)\n",
    "        once = True\n",
    "    print(model, score)\n"
   ]
  },
  {
   "cell_type": "code",
   "execution_count": null,
   "metadata": {},
   "outputs": [],
   "source": [
    "tools.showMatrix(df_first)"
   ]
  },
  {
   "cell_type": "code",
   "execution_count": null,
   "metadata": {},
   "outputs": [],
   "source": [
    "\n",
    "df_second = df.copy()\n",
    "# , df_second[\"Maneuvers\"],]\n",
    "X_train, X_test, y_train, y_test = train_test_split(df_second.drop(\n",
    "    [\"TimeOfMission\", \"Maneuvers\", \"FuelRemaining\"], axis=1), df_second[\"TimeOfMission\"], test_size=0.30)\n",
    "# X_train, X_test, y_train, y_test = train_test_split( df.drop(\"Maneuvers\", axis=1), df[\"Maneuvers\"], test_size=0.30)\n",
    "models = [Lasso(), KNeighborsRegressor(), RandomForestRegressor(\n",
    "    n_estimators=100), GradientBoostingRegressor(), DecisionTreeRegressor(max_depth=5)]\n",
    "\n",
    "print(X_train.columns)\n"
   ]
  },
  {
   "cell_type": "code",
   "execution_count": null,
   "metadata": {},
   "outputs": [],
   "source": [
    "\n",
    "for model in models:\n",
    "    # Model is trained with the corrupted / imputed data\n",
    "    model.fit(X_train, y_train)\n",
    "\n",
    "once = True\n",
    "dim = X_train.shape[1]\n",
    "epochs = 50\n",
    "activation_names = [\"relu\", \"sigmoid\", \"tanh\"]\n",
    "# for activation in activation_names :\n",
    "#     model = Sequential()\n",
    "#     #On pourrait essayer de rajouter plusieurs paramètres de modèles différents notamment en rajoutant des couches supplémentaires ou en utilisant un nombre de neurones cachés différent. Nous allons nous contenter ici de seulement changer la fonction d'activation.\n",
    "#     model.add(Dense(150, input_dim= dim, activation=activation))\n",
    "#     #On peut essayer d'ajouter une couche intermédiaire, mais la performance ne sera pas assez intéressante\n",
    "#     #model.add(Dense(300, activation=name))\n",
    "#     model.add(Dense(150, activation=activation))\n",
    "\n",
    "#     # Vu que l'on utilise une régression pour un prix, on utilise une fonction d'activation linéaire pour la sortie\n",
    "#     model.add(Dense(1, activation='linear'))\n",
    "#     model.compile(loss='mean_squared_error', optimizer='adam')\n",
    "\n",
    "#     #visualize_model(X_train, X_test, y_train, y_test, model, show_pred_vs_y_test=True)\n",
    "#     model.fit(X_train, y_train,epochs=epochs, verbose = 0)\n",
    "\n",
    "#     models.append(model)\n",
    "scores = []\n",
    "for model in models:\n",
    "\n",
    "    # Model performance is evaluated against the original test dataset\n",
    "    y_pred = model.predict(X_test)\n",
    "    # y_pred = [round(y) for y in y_pred]\n",
    "    scores.append(r2_score(y_test, y_pred))\n",
    "    if not once:\n",
    "        for t, p, x in zip(y_test, y_pred, X_test.values):\n",
    "            print(t, p, x)\n",
    "        once = True\n"
   ]
  },
  {
   "cell_type": "code",
   "execution_count": null,
   "metadata": {},
   "outputs": [],
   "source": [
    "for model, score in zip(models, scores):\n",
    "    print(model, score)\n"
   ]
  },
  {
   "cell_type": "code",
   "execution_count": null,
   "metadata": {},
   "outputs": [],
   "source": [
    "tools.showMatrix(df_second)\n",
    "\n"
   ]
  },
  {
   "cell_type": "code",
   "execution_count": null,
   "metadata": {},
   "outputs": [],
   "source": [
    "# Export as dot file\n",
    "# export_graphviz(models[4], out_file='tree.dot',\n",
    "#                 feature_names=df_second.drop(\n",
    "#                     [\"TimeOfMission\", \"FuelRemaining\", \"Maneuvers\"], axis=1).columns,\n",
    "#                 class_names=\"TimeOfMission\",\n",
    "#                 rounded=True, proportion=False,\n",
    "#                 precision=6, filled=True)\n",
    "# os.system('dot -Tpng tree.dot -o tree.png')\n",
    "# Display in jupyter notebook\n"
   ]
  },
  {
   "cell_type": "code",
   "execution_count": null,
   "metadata": {},
   "outputs": [],
   "source": []
  },
  {
   "cell_type": "code",
   "execution_count": null,
   "metadata": {},
   "outputs": [],
   "source": [
    "\n",
    "tools.showMatrix(df_second.drop(\n",
    "    [\"Maneuvers\", \"FuelRemaining\"], axis=1))"
   ]
  },
  {
   "cell_type": "code",
   "execution_count": null,
   "metadata": {},
   "outputs": [],
   "source": [
    "col_names = []\n",
    "nb_params = 1\n",
    "for i in range(nb_params):\n",
    "    col_names.append(\"Y{}\".format(i+1))\n",
    "df_y = pd.DataFrame(K.zeros((df.shape[0], nb_params)), columns=col_names)\n",
    "\n",
    "print(df.shape, df_y.shape)\n",
    "\n",
    "# df = np.expand_dims(df, -1)\n",
    "# df_y = np.expand_dims(df_y, -1)\n",
    "X_train, X_test, y_train, y_test = train_test_split(df, df_y, test_size=0.30)\n",
    "X_train = np.asarray(X_train).astype('float32')\n",
    "y_train = np.asarray(y_train).astype('float32')\n",
    "print(y_test.shape)"
   ]
  }
 ],
 "metadata": {
  "interpreter": {
   "hash": "822993cc2de8065dd07929654093e8c6598914b15835bcfeccbcac84530d789c"
  },
  "kernelspec": {
   "display_name": "Python 3.7.9 64-bit (windows store)",
   "language": "python",
   "name": "python3"
  },
  "language_info": {
   "codemirror_mode": {
    "name": "ipython",
    "version": 3
   },
   "file_extension": ".py",
   "mimetype": "text/x-python",
   "name": "python",
   "nbconvert_exporter": "python",
   "pygments_lexer": "ipython3",
   "version": "3.7.9"
  },
  "orig_nbformat": 4
 },
 "nbformat": 4,
 "nbformat_minor": 2
}
